{
 "cells": [
  {
   "cell_type": "markdown",
   "metadata": {},
   "source": [
    "# US Flight Delay Analysis"
   ]
  },
  {
   "cell_type": "markdown",
   "metadata": {},
   "source": [
    "## Author Name : Sridhar Varanasi"
   ]
  },
  {
   "cell_type": "markdown",
   "metadata": {},
   "source": [
    "### Date: 25-03-2018"
   ]
  },
  {
   "cell_type": "markdown",
   "metadata": {},
   "source": [
    "### My Initial version of visualization:\n",
    "https://public.tableau.com/views/FlightsDelay_1/AvgArrDepDelay-PerMonth?:embed=y&:display_count=yes"
   ]
  },
  {
   "cell_type": "markdown",
   "metadata": {},
   "source": [
    "### My final version of visualization:\n",
    "https://public.tableau.com/views/USFlightDelayAnalysis-Version3-Final/AvgArrDepDelay-PerMonth?:embed=y&:display_count=yes&publish=yes\n",
    "\n",
    "**DelaysAcrossDifferentMonths_Dashboard**\n",
    "\n",
    "https://public.tableau.com/views/USFlightDelayAnalysis-Version3-Final/DelaysAcrossDifferentMonths_Dashboard?:embed=y&:display_count=yes\n",
    "\n",
    "**OnTimePerformance_Dashboard**\n",
    "\n",
    "https://public.tableau.com/views/USFlightDelayAnalysis-Version3-Final/OnTimePerformance_Dashboard?:embed=y&:display_count=yes\n",
    "\n",
    "**DiversionCancellationMetrics_Dashboard**\n",
    "\n",
    "https://public.tableau.com/views/USFlightDelayAnalysis-Version3-Final/DiversionCancellationMetrics_Dashboard?:embed=y&:display_count=yes\n",
    "\n",
    "\n",
    "**Airtime-DistanceTravlledvsDelays_Dashboard**\n",
    "\n",
    "https://public.tableau.com/views/USFlightDelayAnalysis-Version3-Final/Airtime-DistanceTravlledvsDelays_Dashboard?:embed=y&:display_count=yes\n",
    "\n",
    "**Story**\n",
    "\n",
    "https://public.tableau.com/views/USFlightDelayAnalysis-Version3-Final/Story1?:embed=y&:display_count=yes"
   ]
  },
  {
   "cell_type": "markdown",
   "metadata": {},
   "source": [
    "Below image shows the sheets which are present in the above mentioned Tableau report. In my report I have created 4 **dashboards**, each of thefollow a naming convention of **_Dashboard**. The final story name is **Story1**"
   ]
  },
  {
   "cell_type": "markdown",
   "metadata": {},
   "source": [
    "To navigate to a particular sheet , Click on the respective link as shown below."
   ]
  },
  {
   "cell_type": "markdown",
   "metadata": {},
   "source": [
    "![title](Sheets_1.PNG)"
   ]
  },
  {
   "cell_type": "markdown",
   "metadata": {},
   "source": [
    "## Summary"
   ]
  },
  {
   "cell_type": "markdown",
   "metadata": {},
   "source": [
    "In my visual analysis, I will be trying to find about the performance of different airline carriers in the USA for the year 2008. I used  **2008.csv** from the below link.\n",
    "\n",
    "http://stat-computing.org/dataexpo/2009/2008.csv.bz2\n",
    "\n",
    "I have used the below link to get data for carrier names from **carriers.csv** and for obtaining the origin and destination airport names I have used **Airport.csv**\n",
    "\n",
    "http://stat-computing.org/dataexpo/2009/carriers.csv\n",
    "\n",
    "http://stat-computing.org/dataexpo/2009/airports.csv\n",
    "\n",
    "I would be trying to find out details about the below questions."
   ]
  },
  {
   "cell_type": "markdown",
   "metadata": {},
   "source": [
    "- How does Avg. arrival & departure delay vary for each month.\n",
    "- On-Time Arrival and Departure performance(s) of different aircraft carriers between two airports\n",
    "- Avg. Departure and Arrival delays for different carriers between an origin and destination airport\n",
    "- What are the different reasons for cancellation and number of diversions for different airline carriers"
   ]
  },
  {
   "cell_type": "markdown",
   "metadata": {},
   "source": [
    "## Design"
   ]
  },
  {
   "cell_type": "markdown",
   "metadata": {},
   "source": [
    "![title](AvgDepDelay-Percarrier-PerMonth.PNG)"
   ]
  },
  {
   "cell_type": "markdown",
   "metadata": {},
   "source": [
    "I have used Origin airport, Destination airport and carrier name as filters. I had used origin, destination airport codes, unique carrier codes. \n",
    "\n",
    "I got feedback from my collegue Harini, it would be better if I could show the city names instead of airport codes in the filter. Similarly, carrier names instead of carrier codes.\n",
    "\n",
    "Then I found the source link had links to get the airports and carrier related data too.I added these to my tableaus data source, joined the main dataset 2008.csv to airports.csv to get the state and city name of origin and destination.\n",
    "\n",
    "Similarly, for carrier names I have used carriers.csv to join with 2008.csv to get the carrier names.\n",
    "\n",
    "I have used left joins for both the cases and 2008.csv is used as the left table. So that I don't miss any data from the main dataset.I have used these filters in my tableau report wherever it is applicable. "
   ]
  },
  {
   "cell_type": "markdown",
   "metadata": {},
   "source": [
    "**How does Avg. arrival & departure delay vary for each month?**"
   ]
  },
  {
   "cell_type": "markdown",
   "metadata": {},
   "source": [
    "I started my data analysis by finding How does avg. departure and arrival delay vary per month, for this analysis initially I used an Area chart.\n",
    "\n",
    "I have created two calculated column called DepartureDelayFlag and ArrivalDelayFlag which were based on the condition if depdelay or arrdelay was greater than 0 it will be 1 else 0.\n",
    "\n",
    "I used this calculated field to create a measure which helps me to find number of delayed flights per month.\n",
    "\n",
    "I have used this in details mark. So that when I hover over each month I can get the number of flights delayed for that month, along with the avg. arrival and departure delay(which are represented on x-axis).\n",
    "\n",
    "Y-axis represents month/day of the week and X- axis represents avg. dep/arrival delay."
   ]
  },
  {
   "cell_type": "markdown",
   "metadata": {},
   "source": [
    "![title](ArrDepDelay_PerMonth.PNG)"
   ]
  },
  {
   "cell_type": "markdown",
   "metadata": {},
   "source": [
    "I got feedback from my collegue **Kishore** , that Area chart was not the correct kind of chart for this analysis, instead it would be more effective to use a line chart.\n",
    "Based on the feedback I changed my plot to a line chart, because it made more sense using a line chart."
   ]
  },
  {
   "cell_type": "markdown",
   "metadata": {},
   "source": [
    "Then, continuing from the trend analysis which I started. I wanted to see avg. arrival and departure delay for each carrier across different months. \n",
    "I encoded aircraft carrier in color , so that each line represents a partcular aircraft carrier. \n",
    "\n",
    "I used avg. distance covered and avg. airtime in details Mark. This visual also used the same filters i.e. origin city, destination city and carrier name."
   ]
  },
  {
   "cell_type": "markdown",
   "metadata": {},
   "source": [
    "![title](ArrDepDelay-PerCarrier.PNG)"
   ]
  },
  {
   "cell_type": "markdown",
   "metadata": {},
   "source": [
    "Then I created a visualization to look into the trend of other delays like security delay, NAS Delay, weather delay, Carrier Delay across different months."
   ]
  },
  {
   "cell_type": "markdown",
   "metadata": {},
   "source": [
    "![title](OtherDelays.PNG)"
   ]
  },
  {
   "cell_type": "markdown",
   "metadata": {},
   "source": [
    "**Avg. Departure and Arrival delays for different carriers between an origin and destination airport**"
   ]
  },
  {
   "cell_type": "markdown",
   "metadata": {},
   "source": [
    "I created a plot to look at the Avg. Arrival and Departure delays for each of the carriers for a selected Origin and Destination."
   ]
  },
  {
   "cell_type": "markdown",
   "metadata": {},
   "source": [
    "![title](Arr-DepDelay.PNG)"
   ]
  },
  {
   "cell_type": "markdown",
   "metadata": {},
   "source": [
    "To get more detailed view, I created a plot for AvgArrivalDelay(DepartureDelay)inMinutes between an Orgin and Dest for each Carrier. \n",
    "\n",
    "In this I tried to understand the average arrival and departure delay for different carriers between two airports. \n",
    "For this analysis I have used a text table and have used diverging color encoding for avg. delay. \n",
    "\n",
    "If avg. delay is less than 0 then it is encoded in Green color and if delay is more than 0 it is encoded in red. As the delay time in minutes increases the shade of the color also increases.\n",
    "\n",
    "Also, I have used a reference line which indicates the mean arrival and departure delay for the selected combination of Origin city and destination city and carrier."
   ]
  },
  {
   "cell_type": "markdown",
   "metadata": {},
   "source": [
    "![title](AvgArr-DepDelay_Origin_Dest_PerCarrier.PNG)"
   ]
  },
  {
   "cell_type": "markdown",
   "metadata": {},
   "source": [
    "**On-Time Arrival and Departure performance(s) of different aircraft carriers between two airports**"
   ]
  },
  {
   "cell_type": "markdown",
   "metadata": {},
   "source": [
    "Then I wanted to know the on-time performance of different carriers between a set of orgin and destination airports. \n",
    "\n",
    "As part of this analysis I created a calculated measure which gives me the percentage of on time arrivals and depatures of each carrier. \n",
    "\n",
    "I have used a bar chart for this analysis. In my first draft version I had used carrier code but in the next versions I have used carrier names instead."
   ]
  },
  {
   "cell_type": "markdown",
   "metadata": {},
   "source": [
    "![title](OnTimeArrival.PNG)"
   ]
  },
  {
   "cell_type": "markdown",
   "metadata": {},
   "source": [
    "![title](OnTimeDeparturePerf.PNG)"
   ]
  },
  {
   "cell_type": "markdown",
   "metadata": {},
   "source": [
    "**What are the different reasons for cancellation and number of diversions for different airline carriers**"
   ]
  },
  {
   "cell_type": "markdown",
   "metadata": {},
   "source": [
    "I wanted to take a look the different reasons for flight cancellations. Also, I was interested in knowing about number of times flights have been diverted in a particular route.\n",
    "\n",
    "For this I have created a bar chart with each bar representing the carrier name. I have used the count of instances when a flight has been cancelled or Diverted.\n"
   ]
  },
  {
   "cell_type": "markdown",
   "metadata": {},
   "source": [
    "![title](NumberofFlighstCancelled_Diverted.PNG)"
   ]
  },
  {
   "cell_type": "markdown",
   "metadata": {},
   "source": [
    "Then I wanted to analyze a bit deeper by finding what are the reasons for flight cancellations for each carrier. I have again used a bar chart to analyze this."
   ]
  },
  {
   "cell_type": "markdown",
   "metadata": {},
   "source": [
    "![title](FlightCancellationReasons.PNG)"
   ]
  },
  {
   "cell_type": "markdown",
   "metadata": {},
   "source": [
    "I also wanted to know the number of instances in which a flight has been diverted between any selected two cities \n",
    "for a particular carrier. To get this information I have used a bar chart as well. I have color encoded the number of diversions.\n",
    "If the diversions are more than 1 it will be shown in red."
   ]
  },
  {
   "cell_type": "markdown",
   "metadata": {},
   "source": [
    "![title](FlightDiversionBetween2cities.PNG)"
   ]
  },
  {
   "cell_type": "markdown",
   "metadata": {},
   "source": [
    "**How much distance is covered by each airline carrier , number of flights per each aircraft carrier and how do delays vary across different Origin and destination airports**"
   ]
  },
  {
   "cell_type": "markdown",
   "metadata": {},
   "source": [
    "I analysed the Avg. airtime percarrier and number of flights for different carriers. \n",
    "\n",
    "To do this analysis I created two sheets one to get AvgAirTime PerCarrier which was a bar chart where each bar represents carrier name and another one to show Number of flights per carrier which has a treemap, where the area covered by each carrier is equal to the number of flights of that carrier.\n",
    "\n",
    "I got a feedback from my collegue Soo , it would be better  if I can eliminate one of the charts, since it was redundant information"
   ]
  },
  {
   "cell_type": "markdown",
   "metadata": {},
   "source": [
    "So, I combined the information from both the sheets into one sheet by indicating the Avg. Airtime in details Mark and Number of flights based on the area in the treemaps visual."
   ]
  },
  {
   "cell_type": "markdown",
   "metadata": {},
   "source": [
    "![title](NumberofFlights-AvgAirTimePercarrier.PNG)"
   ]
  },
  {
   "cell_type": "markdown",
   "metadata": {},
   "source": [
    "As a continuation to this, I wanted to know what is the average departure delay and number of flights starting from a particular airport. \n",
    "I have used a symbols map to visualize this information. I had used number of flights in the size encoding and avg. delay in the details.\n",
    "\n",
    "I got a feedback from Soo, that I should use avg. Departure or Arrival delay as color encoding. As it will enhance the information dispalyed in the map."
   ]
  },
  {
   "cell_type": "markdown",
   "metadata": {},
   "source": [
    "I have made this change. Now I have used color to encode the Avg. Departure and Arrival delays and shape to encode the total number of flights.\n"
   ]
  },
  {
   "cell_type": "markdown",
   "metadata": {},
   "source": [
    "![title](DestAirport-AvgArrivalDelayPerCarrier.PNG)"
   ]
  },
  {
   "cell_type": "markdown",
   "metadata": {},
   "source": [
    "**Correlation between other delays, Airtime, Distance vs Arrival and Departure delays**"
   ]
  },
  {
   "cell_type": "markdown",
   "metadata": {},
   "source": [
    "I also wanted to see if there is any correlation between departure delay and arrival delay. \n",
    "\n",
    "To visualize this ,I created a scatter plot to see if there is any relationship between arrival and departure delay. \n",
    "Also, I added a linear trend line to see the relationship.\n",
    "\n",
    "Similarly, I  created a plot to see relationship between All the other delay factors like Security delay , Weather Delay, Carrier delay and Nas Delay wrt. Arrival and Departure delay.\n",
    "\n",
    "I combined all the other forms of delays into 1 single calculated measure and plotted them against the arrival and Departure delay.\n",
    "\n",
    "I have created individual reports for each of these scatter plots and then combined them into a single dashboard as shown below.\n",
    "\n",
    "As Per the review comments recieved from the Udacity reviewer. I have modified my plots to show top N number of carriers ordered by number of flights. I have used a set and a parameter control to do this.\n",
    "\n",
    "This was done to reduce the clutter in the scatterplot."
   ]
  },
  {
   "cell_type": "markdown",
   "metadata": {},
   "source": [
    "![title](DelaysCorrelationPlot_1.PNG)"
   ]
  },
  {
   "cell_type": "markdown",
   "metadata": {},
   "source": [
    "**Which aircraft carriers arrive on time even after a delayed start?**"
   ]
  },
  {
   "cell_type": "markdown",
   "metadata": {},
   "source": [
    "Just out of curiosity I wanted to see if there are any airlines which have a delayed start but reach their destination on or nefore time. To do this analysis I have used a barchart and I am showing the percentage of trips in which the carrier has had a delayed start but early arrival."
   ]
  },
  {
   "cell_type": "markdown",
   "metadata": {},
   "source": [
    "![title](EarlyArrivalAfterLateDeparture.PNG)"
   ]
  },
  {
   "cell_type": "markdown",
   "metadata": {},
   "source": []
  },
  {
   "cell_type": "markdown",
   "metadata": {},
   "source": [
    "## Feedback"
   ]
  },
  {
   "cell_type": "markdown",
   "metadata": {},
   "source": []
  },
  {
   "cell_type": "markdown",
   "metadata": {},
   "source": [
    "I shared my work with few collegues at work and they gave me few suggestions for improvement. \n",
    "Below is the feedback I recieved from them:\n",
    "\n",
    "Harini suggested me to change the airport codes and origin and destiniation codes to actual names as it would be more easy to interpret.\n",
    "\n",
    "Kishore suggested me to use line chart to show trend of average arrival and departure delay for different months.\n",
    "\n",
    "Soo suggested that I should use avg. Departure or Arrival delay as color encoding in the map. As it will enhance the information dispalyed in the visual.\n",
    "\n",
    "I got a review comment from Udacity reviewer to show limited number of carrier names in the scatterplots which I had created to see correlation between airtime, distance, total delays wrt. Avg. arrival and departure delays.\n",
    "\n",
    "I want to thank my collegues from the bottom of my heart for taking their time out and providing me with such detailed feedback."
   ]
  },
  {
   "cell_type": "markdown",
   "metadata": {},
   "source": [
    "## Resources        "
   ]
  },
  {
   "cell_type": "markdown",
   "metadata": {},
   "source": [
    "I have used the below link as reference.\n",
    "\n",
    "https://www.tableau.com/learn/training\n",
    "\n",
    "I have used the below books for reference.\n",
    "\n",
    "Tableau 10 for beginners\n",
    "Tableau your Data"
   ]
  }
 ],
 "metadata": {
  "kernelspec": {
   "display_name": "Python 3",
   "language": "python",
   "name": "python3"
  },
  "language_info": {
   "codemirror_mode": {
    "name": "ipython",
    "version": 3
   },
   "file_extension": ".py",
   "mimetype": "text/x-python",
   "name": "python",
   "nbconvert_exporter": "python",
   "pygments_lexer": "ipython3",
   "version": "3.6.3"
  }
 },
 "nbformat": 4,
 "nbformat_minor": 2
}
